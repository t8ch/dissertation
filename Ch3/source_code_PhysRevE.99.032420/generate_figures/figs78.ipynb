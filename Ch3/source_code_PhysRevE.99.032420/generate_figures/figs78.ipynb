{
 "cells": [
  {
   "cell_type": "code",
   "execution_count": 15,
   "metadata": {},
   "outputs": [],
   "source": [
    "from __future__ import division\n",
    "from scipy.integrate import cumtrapz\n",
    "import sys\n",
    "sys.path.append('../code')\n",
    "sys.path.append('../generate_data/')\n",
    "from pylab import *\n",
    "from signalsmooth import smooth\n",
    "import seaborn as sns\n",
    "sns.set_style('white')\n",
    "sns.set(style = \"ticks\", color_codes = True)\n",
    "from matplotlib.gridspec import GridSpec\n",
    "from mpl_toolkits.axes_grid.inset_locator import inset_axes"
   ]
  },
  {
   "cell_type": "markdown",
   "metadata": {},
   "source": [
    "#### global plotting settings"
   ]
  },
  {
   "cell_type": "code",
   "execution_count": 16,
   "metadata": {},
   "outputs": [
    {
     "name": "stdout",
     "output_type": "stream",
     "text": [
      "paper style set\n"
     ]
    }
   ],
   "source": [
    "from style_sheet import custom_style, set_inset_params\n",
    "custom_style(paper = True)\n",
    "#sns.set_context(\"paper\")"
   ]
  },
  {
   "cell_type": "code",
   "execution_count": 17,
   "metadata": {
    "scrolled": true
   },
   "outputs": [
    {
     "name": "stdout",
     "output_type": "stream",
     "text": [
      "Using matplotlib backend: Qt5Agg\n"
     ]
    }
   ],
   "source": [
    "%matplotlib\n",
    "#nbagg"
   ]
  },
  {
   "cell_type": "markdown",
   "metadata": {},
   "source": [
    "# load data"
   ]
  },
  {
   "cell_type": "code",
   "execution_count": 3,
   "metadata": {},
   "outputs": [],
   "source": [
    "sig = [200, 250, 300]\n",
    "uppers = map(chr, range(65, 91))\n",
    "sigN = [200., 250., 300.]\n",
    "tauN = [0., 2.5, 5., 10., 15.]\n",
    "tauS = [10., 20., 30.]\n",
    "snr = array([.15, .05, .25, .5, .75, 1., 2.])\n",
    "snr2 = snr\n",
    "w0_s = [0, 0.25, .508, 1., 2.54, 7.111]\n",
    "order = argsort(w0_s)\n",
    "w0_s = sort(w0_s)"
   ]
  },
  {
   "cell_type": "markdown",
   "metadata": {},
   "source": [
    "normalized noise strengths"
   ]
  },
  {
   "cell_type": "code",
   "execution_count": 20,
   "metadata": {},
   "outputs": [],
   "source": [
    "sigNc= [[200., 250., 300.], [95, 130, 165], [40., 70., 100.], [20., 45., 70.], [10., 34., 58.]]\n",
    "sigN_lif = append([sigNc[0]], [[sigNc[y][x]*sqrt(tauN[y]*2) for x in range(3)] for y in range(1,4)], axis = 0)\n",
    "mu_lif = [300., 330., 350., 365., 375.]\n",
    "\n",
    "mu_eif = [300., 300., 310., 330.]\n",
    "sigN_eif = [[350., 500., 650.], [175., 300., 425.], [100., 200., 300.], [75., 175., 275.]]\n",
    "sigN_eif = append([sigN_eif[0]], [[sigN_eif[y][x]*sqrt(tauN[y]*2) for x in range(3)] for y in range(1,4)], axis = 0)"
   ]
  },
  {
   "cell_type": "code",
   "execution_count": 24,
   "metadata": {},
   "outputs": [
    {
     "data": {
      "text/plain": [
       "(array([[200.        , 250.        , 300.        ],\n",
       "        [212.42645786, 290.68883707, 368.95121629],\n",
       "        [126.49110641, 221.35943621, 316.22776602],\n",
       "        [ 89.4427191 , 201.24611797, 313.04951685]]),\n",
       " array([[ 350.        ,  500.        ,  650.        ],\n",
       "        [ 391.31189606,  670.82039325,  950.32889044],\n",
       "        [ 316.22776602,  632.45553203,  948.68329805],\n",
       "        [ 335.41019662,  782.62379212, 1229.83738762]]))"
      ]
     },
     "execution_count": 24,
     "metadata": {},
     "output_type": "execute_result"
    }
   ],
   "source": [
    "sigN_lif, sigN_eif"
   ]
  },
  {
   "cell_type": "code",
   "execution_count": 22,
   "metadata": {},
   "outputs": [
    {
     "name": "stdout",
     "output_type": "stream",
     "text": [
      "/home/herfurtht/mpi-br/project1/paper/source_code2/generate_data\n"
     ]
    }
   ],
   "source": [
    "%cd ../generate_data/"
   ]
  },
  {
   "cell_type": "code",
   "execution_count": 8,
   "metadata": {},
   "outputs": [],
   "source": [
    "As = [load(\"firing-stats-LIF-tauN0.npz\"), load(\"firing-stats-LIF-tauN2.5.npz\"),load(\"firing-stats-LIF-tauN5.npz\"), load(\"firing-stats-LIF-tauN10.npz\")]\n",
    "Bs = [load(\"firing-stats-EIF-tauN0.npz\"), load(\"firing-stats-EIF-tauN2.5.npz\"),load(\"firing-stats-EIF-tauN5.npz\"), load(\"firing-stats-EIF-tauN10.npz\")]\n",
    "\n",
    "sim_lif, sim_eif = [x.f.sim for x in As], [x.f.sim for x in Bs]"
   ]
  },
  {
   "cell_type": "code",
   "execution_count": 9,
   "metadata": {},
   "outputs": [],
   "source": [
    "rates_lif = array([[[[[x1[0][-1] for x1 in x2] for x2 in x3] for x3 in x4] for x4 in x5] for x5 in sim_lif], dtype = float16)\n",
    "rates_eif = array([[[[[x1[0][-1] for x1 in x2] for x2 in x3] for x3 in x4] for x4 in x5] for x5 in sim_eif], dtype = float16)\n",
    "cv_lif = array([[[[[sqrt(x1[0][1]/x1[0][-1]) for x1 in x2] for x2 in x3] for x3 in x4] for x4 in x5] for x5 in sim_lif], dtype = float16)\n",
    "cv_eif = array([[[[[sqrt(x1[0][1]/x1[0][-1]) for x1 in x2] for x2 in x3] for x3 in x4] for x4 in x5] for x5 in sim_eif], dtype = float16)"
   ]
  },
  {
   "cell_type": "markdown",
   "metadata": {},
   "source": [
    "# Figures 7 and 8"
   ]
  },
  {
   "cell_type": "markdown",
   "metadata": {},
   "source": [
    "is_eif is a boolean that determine whether EIF or LIF data are to be plotted. **is_eif = 0 corresponds to Fig 7, is_eif = 1 to Fig 8**"
   ]
  },
  {
   "cell_type": "code",
   "execution_count": 21,
   "metadata": {},
   "outputs": [
    {
     "name": "stdout",
     "output_type": "stream",
     "text": [
      "('rates : ', array([10.8795166 , 16.78466797, 21.01135254]), array([1.03569031, 0.5979538 , 0.42295456]))\n"
     ]
    }
   ],
   "source": [
    "markers = ['X', 'o', '>']\n",
    "is_rates = 1\n",
    "\n",
    "is_eif = 0\n",
    "rates_or_cv = [[cv_lif, cv_eif],[rates_lif, rates_eif]][is_rates][is_eif] # choose rates vs CV and LIF vs EIF\n",
    "sigNc = [sigN_lif, sigN_eif][is_eif]\n",
    "muc = [mu_lif, mu_eif][is_eif]\n",
    "\n",
    "rates = array([rates_or_cv[:,0,x,0,0]*1000 for x in range(3)])\n",
    "rates_err = array([std(rates_or_cv[:,0,x,0,0])*1000 for x in range(3)])\n",
    "rates_mean = array([mean(rates_or_cv[:,0,x,0,0])*1000 for x in range(3)])\n",
    "\n",
    "print('rates : ' ,rates_mean, rates_err)\n",
    "\n",
    "fig, axs = plt.subplots(nrows=3, ncols=1, sharex= 'col', sharey=False, \n",
    "                            gridspec_kw={'height_ratios': [1.25, 1., 1.]},\n",
    "                            figsize=(3.5, 6.)\n",
    "                       )\n",
    "for i, ax in enumerate(hstack(axs)):\n",
    "    ax.text(-.25, 1.1, uppers[i], size = 14, transform=ax.transAxes, weight  = 'bold', usetex = 0) \n",
    "### tau vs sigma/mu plot\n",
    "ax1 = axs[0]\n",
    "[ax1.plot(tauN[:4], array(sigNc)[:4,x], ls = '-', c= 'k', marker = markers[x], linewidth = .35, label = r'$\\hat\\sigma_n^{{({})}}\\sim \\nu_{{{}}}$'.format(x+1, x+1)) for x in range(3)]\n",
    "ax2 = ax1.twinx()\n",
    "ax2.plot(tauN[:4], muc[:4], 's', c = 'darkkhaki', ls = '-', lw = .35)\n",
    "ax2.tick_params('y', colors='darkkhaki')\n",
    "ax2.spines['right'].set_visible(1)\n",
    "ax2.spines['right'].set_color('darkkhaki')\n",
    "\n",
    "#ax1.set_xlabel(r\"noise time constant $\\tau_n$ [ms]\")\n",
    "ax1.set_ylabel(r\"$\\sigma_n$ [pA  $\\cdot \\mathrm{ms}^{{1/2}}$]\")\n",
    "ax2.set_ylabel(r\"$\\mu$ [pA]\", color = 'darkkhaki')\n",
    "\n",
    "#### rate and CV plot\n",
    "for is_rates in [True, False]:\n",
    "    rates_or_cv = [[cv_lif, cv_eif],[rates_lif, rates_eif]][is_rates][is_eif] # choose rates vs CV and LIF vs EIF\n",
    "\n",
    "    rates = array([rates_or_cv[:,0,x,0,0]*1000 for x in range(3)])\n",
    "    rates_err = array([std(rates_or_cv[:,0,x,0,0])*1000 for x in range(3)])\n",
    "    rates_mean = array([mean(rates_or_cv[:,0,x,0,0])*1000 for x in range(3)])\n",
    "    \n",
    "    sca(axs[2-is_rates])\n",
    "    if is_rates == 0:\n",
    "        rates /= 1000.\n",
    "        ylim([.5, 1.])\n",
    "    [plot(tauN[:4], rates[t], ls = '-', c = 'k', marker = markers[t], linewidth = .35, label = r'$\\hat\\sigma_n^{{({})}}\\sim \\nu_{{{}}}$'.format(t+1, t+1)) for t in range(3)]\n",
    "    if is_rates == 1:\n",
    "        [hlines(rates_mean[x], tauN[0], tauN[3], color = 'lightgrey') for x in range(3)]\n",
    "        [fill_between(tauN[:4], rates_mean[x]+rates_err[x], rates_mean[x]-rates_err[x], color = 'lightgrey', alpha = .3) for x in range(3)]\n",
    "        [text(tauN[3]-.5, rates_mean[x]+1, r'$\\nu_{{{}}}$'.format(x+1), horizontalalignment = 'right') for x in range(3)]\n",
    "    ylabel([r'coeff of var. $CV_{\\mathrm{ISI}}$', r'firing rate $\\nu$ [Hz]'][is_rates])\n",
    "\n",
    "xlabel(r'noise time constant $\\tau_n$ [ms]')\n",
    "if is_eif == 0: ax1.legend(fontsize = 'small', labelspacing = .3, columnspacing = 1.2, loc = 'upper left', bbox_to_anchor = (.05, .350))\n",
    "else: ax1.legend(fontsize = 'small', labelspacing = .3, columnspacing = 1.2, loc = 'upper left', bbox_to_anchor = (.02, 1.05))\n",
    "tight_layout()\n",
    "show()"
   ]
  },
  {
   "cell_type": "code",
   "execution_count": null,
   "metadata": {},
   "outputs": [],
   "source": []
  }
 ],
 "metadata": {
  "kernelspec": {
   "display_name": "Python [conda env:py27]",
   "language": "python",
   "name": "conda-env-py27-py"
  },
  "language_info": {
   "codemirror_mode": {
    "name": "ipython",
    "version": 2
   },
   "file_extension": ".py",
   "mimetype": "text/x-python",
   "name": "python",
   "nbconvert_exporter": "python",
   "pygments_lexer": "ipython2",
   "version": "2.7.15"
  },
  "toc": {
   "base_numbering": 1,
   "nav_menu": {
    "height": "512px",
    "width": "252px"
   },
   "number_sections": true,
   "sideBar": true,
   "skip_h1_title": false,
   "title_cell": "Table of Contents",
   "title_sidebar": "Contents",
   "toc_cell": false,
   "toc_position": {
    "height": "966px",
    "left": "0px",
    "right": "1676px",
    "top": "107px",
    "width": "244px"
   },
   "toc_section_display": "block",
   "toc_window_display": true
  }
 },
 "nbformat": 4,
 "nbformat_minor": 1
}
