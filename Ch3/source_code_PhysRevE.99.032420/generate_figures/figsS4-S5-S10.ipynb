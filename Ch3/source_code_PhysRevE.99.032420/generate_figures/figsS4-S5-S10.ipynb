{
 "cells": [
  {
   "cell_type": "code",
   "execution_count": 2,
   "metadata": {},
   "outputs": [],
   "source": [
    "from __future__ import division\n",
    "from scipy.integrate import cumtrapz\n",
    "import sys\n",
    "sys.path.append('../generate_data/')\n",
    "sys.path.append('../code/')\n",
    "from pylab import *\n",
    "from signalsmooth import smooth\n",
    "import seaborn as sns\n",
    "sns.set_style('white')\n",
    "sns.set(style = \"ticks\", color_codes = True)\n",
    "from matplotlib.gridspec import GridSpec\n",
    "from mpl_toolkits.axes_grid.inset_locator import inset_axes"
   ]
  },
  {
   "cell_type": "code",
   "execution_count": 3,
   "metadata": {},
   "outputs": [
    {
     "name": "stdout",
     "output_type": "stream",
     "text": [
      "Using matplotlib backend: Qt5Agg\n"
     ]
    }
   ],
   "source": [
    "%matplotlib \n",
    "#nbagg"
   ]
  },
  {
   "cell_type": "code",
   "execution_count": 4,
   "metadata": {
    "collapsed": true
   },
   "outputs": [],
   "source": [
    "uppers = map(chr, range(65, 91))"
   ]
  },
  {
   "cell_type": "markdown",
   "metadata": {},
   "source": [
    "#### rc params"
   ]
  },
  {
   "cell_type": "code",
   "execution_count": 5,
   "metadata": {
    "collapsed": true
   },
   "outputs": [],
   "source": [
    "rc('figure', titlesize= 'x-large')\n",
    "rc('axes', labelpad = 4);\n",
    "rc('xtick.major', pad = 4); rc('xtick.minor', pad = 4); rc('ytick.major', pad = 4); rc('ytick.minor', pad = 4);"
   ]
  },
  {
   "cell_type": "code",
   "execution_count": 6,
   "metadata": {
    "collapsed": true
   },
   "outputs": [],
   "source": [
    "from style_sheet import custom_style\n",
    "custom_style()\n",
    "mpl.rcParams['text.usetex'] = False"
   ]
  },
  {
   "cell_type": "markdown",
   "metadata": {},
   "source": [
    "# load data"
   ]
  },
  {
   "cell_type": "code",
   "execution_count": 1,
   "metadata": {},
   "outputs": [
    {
     "name": "stdout",
     "output_type": "stream",
     "text": [
      "/home/herfurtht/mpi-br/project1/paper/source_code2/generate_data\n"
     ]
    }
   ],
   "source": [
    "%cd ../generate_data/"
   ]
  },
  {
   "cell_type": "code",
   "execution_count": 5,
   "metadata": {
    "collapsed": true
   },
   "outputs": [],
   "source": [
    "data = load('test-gaussianity-LIF-tauN0-1.npz')\n",
    "signal, spikes = data.f.sig[()], data.f.spi[()] #weird, but recovers dict"
   ]
  },
  {
   "cell_type": "code",
   "execution_count": 7,
   "metadata": {},
   "outputs": [
    {
     "data": {
      "text/plain": [
       "['std', 'control', 'normtest', 'corrcoeff', 'means']"
      ]
     },
     "execution_count": 7,
     "metadata": {},
     "output_type": "execute_result"
    }
   ],
   "source": [
    "signal.keys()"
   ]
  },
  {
   "cell_type": "markdown",
   "metadata": {},
   "source": [
    "# Figures"
   ]
  },
  {
   "cell_type": "markdown",
   "metadata": {
    "heading_collapsed": true
   },
   "source": [
    "## Fig. S10"
   ]
  },
  {
   "cell_type": "code",
   "execution_count": 12,
   "metadata": {
    "hidden": true
   },
   "outputs": [],
   "source": [
    "spikes_or_sig = 0\n",
    "data = [spikes, signal][spikes_or_sig]\n",
    "\n",
    "w = array([2*pi/(1e5*.02)*(x+1) for x in xrange(len((data['means'][0][0][0])))])\n",
    "T = .02*1e5/1000. #in seconds\n",
    "normC = 1/T #because of FT and C = 1/T *(r r)\n",
    "\n",
    "\n",
    "means = array([[data['means'][0][0], data['means'][1][0]], [data['means'][0][1], data['means'][1][1]]])\n",
    "stds = array([[data['std'][0][0], data['std'][1][0]], [data['std'][0][1], data['std'][1][1]]])\n",
    "\n",
    "col = [cm.Reds_r(.1) , cm.Blues_r(.1)]  \n",
    "col2 = [cm.Reds_r(.35) ,cm.Blues_r(.35)]\n",
    "C = col, col2\n",
    "\n",
    "text1 = ['varying sig.', 'repeating sig.']\n",
    "text2 = ['MM', 'VM']\n",
    "\n",
    "fig, axs = plt.subplots(2, 2, sharex= False, sharey = False)\n",
    "\n",
    "tit = [r'$\\epsilon_{snr}$',  '$\\hat \\sigma_n$', r'$\\tau_n$ and $\\tau_s$', '$\\Omega_0$']\n",
    "\n",
    "#suptitle(\"LIF: mean values of FC of spike trains\")\n",
    "suptitle('Mean of Fourier coefficients obtained from {} in LIF neurons'.format(['spike trains', 'signal'][spikes_or_sig]), size =15)\n",
    "for i, ax in enumerate(hstack(axs)):\n",
    "    #ax.set_title('influence of '+tit[i], y = 1.15)\n",
    "    ax.set_xlabel(r'$\\omega$ [$2\\pi\\cdot$ kHz]')\n",
    "    ax.set_ylabel(r'mean $\\mu_c(\\omega)$ of FC [Hz$^{1/2}$]')\n",
    "    ax.yaxis.set_major_formatter(mpl.ticker.ScalarFormatter(useMathText=True))\n",
    "    #ax.ticklabel_format(scilimits=(-2, 1))\n",
    "    ax.ticklabel_format(style='sci', axis='y', scilimits=(-2,1), labelsize=7)\n",
    "    ax.text(-.15, 1.1, uppers[i], size = 14, transform=ax.transAxes, weight  = 'bold') #seemingly, transform=... uses relative coord.\n",
    "    #ax.set_ylim(min(means.flatten())*normC, max(means.flatten())*normC)\n",
    "    ax.set_xlim([0, 7.5])\n",
    "\n",
    "for mod in range(2):\n",
    "    for ur in range(2):\n",
    "        subplot(axs[ur, mod])\n",
    "        axs[ur, mod].text(.8, 1.02, text2[mod], ha='right', va ='bottom',  weight = 'bold', color = [cm.Reds_r(.0), cm.Blues_r(.0)][mod], fontsize = 12, transform=axs[ur, mod].transAxes)\n",
    "        axs[ur, mod].text(.2, 1.02, text1[ur], ha='left', va ='bottom',  color = C[ur][mod], fontsize = 12, transform=axs[ur, mod].transAxes)\n",
    "        plot(w, means[ur][mod][0]*normC, c = C[ur][mod], label = 'real'),# plot(means[ur][mod][1], c = C[ur][mod])\n",
    "        #axs[ur, mod].fill_between(w, means[ur][mod][0]+stds[ur][mod][0], means[ur][mod][0]-stds[ur][mod][0], facecolor=C[ur][mod], alpha=0.5)\n",
    "        axs[ur,mod].set_ylim(min(means[:, mod].flatten())*normC, max(means[:, mod].flatten())*normC)\n",
    "        #legend(loc = 2)\n",
    "\n",
    "        inset_axis = inset_axes(gca(),\n",
    "                width=\"35%\", # width = 30% of parent_bbox\n",
    "                height= \"35%\",  #height : 1 inch)\n",
    "                loc = 1, borderpad = .92)\n",
    "        inset_axis.text(0.5, 1.05, r'imag(FC)'.format(), fontsize= 7, transform= inset_axis.transAxes, horizontalalignment = 'center')\n",
    "        #inset_axis.tick_params(axis='both', which='major', pad= 1, labelsize = 7)\n",
    "        plot(w, means[ur][mod][1]*normC, c = C[ur][mod], linestyle = 'dashed', label = 'imag.')\n",
    "        inset_axis.set_ylim(min(means[:, mod].flatten())*normC, max(means[:, mod].flatten())*normC)\n",
    "        inset_axis.set_xticklabels([]), inset_axis.set_yticklabels([])\n",
    "        inset_axis.set_xlim([0, 12.5])\n",
    "        #legend(fontsize = 'x-small')\n",
    "\n",
    "tight_layout()\n",
    "show()"
   ]
  },
  {
   "cell_type": "markdown",
   "metadata": {},
   "source": [
    "## Fig. S4 and S5"
   ]
  },
  {
   "cell_type": "markdown",
   "metadata": {},
   "source": [
    "**set the variable spikes_or_sig to 1 for Fig. S4 and to 0 for Fig. S5**"
   ]
  },
  {
   "cell_type": "code",
   "execution_count": 15,
   "metadata": {},
   "outputs": [
    {
     "name": "stdout",
     "output_type": "stream",
     "text": [
      "-0.0474161659763 -0.0395970464107 -0.0327475038435 -0.0336240980842\n",
      "0.0470407543978 0.0326216073898 0.0329030169704 0.0322397388334\n",
      "-0.0350490723835 -0.0363511779686 -0.0330257286444 -0.0327245768261\n",
      "0.0328233372813 0.0339327064573 0.0344192670837 0.034080502685\n"
     ]
    }
   ],
   "source": [
    "binN = 75\n",
    "\n",
    "spikes_or_sig = 1\n",
    "data = [spikes, signal][spikes_or_sig]\n",
    "\n",
    "c_un, c_re = [data['corrcoeff'][0][0], data['corrcoeff'][1][0]], [data['corrcoeff'][0][1], data['corrcoeff'][1][1]]\n",
    "test_un, test_re = [data['normtest'][0][0], data['normtest'][1][0]], [data['normtest'][0][1], data['normtest'][1][1]]\n",
    "      \n",
    "col = [cm.Reds_r(.1) , cm.Blues_r(.1)]  \n",
    "col2 = [cm.Reds_r(.35) ,cm.Blues_r(.35)]\n",
    "\n",
    "gs1 = GridSpec(2, 2)\n",
    "gs1.update(left=0.14, right=0.52, hspace = 0.24, wspace=0.0, bottom = .07, top = .86)\n",
    "gs2 = GridSpec(2, 2)\n",
    "gs2.update(left=0.6, right=0.97, hspace=0.24, wspace = 0.0, bottom = .07, top =.86)\n",
    "\n",
    "fig = figure()\n",
    "\n",
    "topax_left = fig.add_subplot(gs1[0,0])\n",
    "others = fig.add_subplot(gs1[0,1], sharey = topax_left)\n",
    "bottomax_left = fig.add_subplot(gs1[1,0])\n",
    "others2 = fig.add_subplot(gs1[1,1], sharey = bottomax_left)\n",
    "axs = array([[topax_left, others],[bottomax_left, others2]])\n",
    "\n",
    "topax_left2 = fig.add_subplot(gs2[0,0], sharey = topax_left)\n",
    "others2 = fig.add_subplot(gs2[0,1], sharey = topax_left2)\n",
    "bottomax_left2 = fig.add_subplot(gs2[1,0], sharey = bottomax_left)\n",
    "others22 = fig.add_subplot(gs2[1,1], sharey = bottomax_left)\n",
    "axs2 = array([[topax_left2, others2],[bottomax_left2, others22]])\n",
    "\n",
    "for i, ax in enumerate([axs[0, 0], axs2[0,0], axs[1,0] , axs2[1,0]]):\n",
    "    #ax.yaxis.set_major_formatter(mpl.ticker.ScalarFormatter(useMathText=True))\n",
    "    #ax.ticklabel_format(scilimits=(-2, 1))\n",
    "    #ax.ticklabel_format(style='sci', axis='y', scilimits=(-3,1), labelsize=7)\n",
    "    ax.text(-.16, 1.06, uppers[i], size = 14, transform=ax.transAxes, weight  = 'bold')\n",
    "    #ax.set_ylim([-.3, .3])\n",
    "    #ax.set_xlim([0, 15])\n",
    "\n",
    "for x, ax in enumerate([axs, axs2]):\n",
    "#    if x ==1: \n",
    "#        setp(ax[0,0].get_yticklabels(), visible=False)\n",
    "#        setp(ax[0,0].get_yticklines(), visible=False)\n",
    "#    if x == 1: \n",
    "#        ax[0,1].yaxis.tick_right()\n",
    "#        setp(ax[0,1].get_yticklabels(), visible = False)\n",
    "\n",
    "    setp(ax[0,1].get_yticklabels(), visible=False)\n",
    "    setp(ax[0,1].get_yticklines(), visible=False)\n",
    "    setp(ax[1,1].get_yticklabels(), visible=False)\n",
    "    setp(ax[1,1].get_yticklines(), visible=False)\n",
    "    #ax[0, 0].set_xticks([])\n",
    "    #ax[0, 1].set_xticks([])\n",
    "    setp(ax[0,0].get_xticklabels(), visible = False)\n",
    "    setp(ax[0,1].get_xticklabels(), visible = False)\n",
    "    setp(ax[1,0].get_xticklabels(), visible = False)\n",
    "    setp(ax[1,1].get_xticklabels(), visible = False)\n",
    "\n",
    "    ax[0,0].text(.7, -.15, 'norm. count', fontweight = 'normal', fontsize = 12, transform=ax[0,0].transAxes)\n",
    "    ax[1,0].text(.7, -.15, 'norm. count', fontweight = 'normal', fontsize = 12, transform=ax[1,0].transAxes)\n",
    "\n",
    "suptitle('FC of {} in LIF neurons are independent and Gaussian'.format(['spike trains', 'signal'][spikes_or_sig]), size =15)\n",
    "\n",
    "for x, ax in enumerate([axs, axs2]):\n",
    "    \n",
    "    subplot(ax[0, 0])\n",
    "    sns.distplot(c_un[x][0], bins = binN, hist = True, kde=False, norm_hist = True, \n",
    "                 vertical = True, color = col[x], hist_kws = {'alpha':.8})\n",
    "    sns.distplot(c_un[x][1], bins = binN, hist = True, kde=False, norm_hist = True, \n",
    "                 hist_kws={\"histtype\": \"step\", \"linewidth\": 1.3, \"alpha\": .75},\n",
    "                         vertical = True, color = 'k')\n",
    "    if x ==0: \n",
    "        ylabel(r'corr. coef. $\\rho_{c,c}$', rotation = 90, fontweight = 'normal', fontsize = 12, labelpad = 10), #title('coefficient of correlation', loc = 'left'), xlabel('counts')\n",
    "    \n",
    "    subplot(ax[0, 1])\n",
    "    sns.distplot(c_re[x][0], bins = binN, hist = True, kde=False, norm_hist = True, \n",
    "                 vertical = True, color = col2[x], hist_kws = {'alpha':.8})\n",
    "    sns.distplot(c_re[x][1], bins = binN, hist = True, kde=False, norm_hist = True, \n",
    "                 hist_kws={\"histtype\": \"step\", \"linewidth\": 1.3, \"alpha\": .75},\n",
    "                         vertical = True, color = 'k')\n",
    "    print min(c_re[x][0]), min(c_re[x][1]), min(c_un[x][0]), min(c_un[x][1])\n",
    "    print max(c_re[x][0]), max(c_re[x][1]), max(c_un[x][0]), max(c_un[x][1])\n",
    "\n",
    "    #xlabel('norm. count', fontweight = 'normal', fontsize = 13, labelpad = 15)\n",
    "    \n",
    "    limits = [min(ax[0,0].get_xlim()[0], ax[0,1].get_xlim()[0]), max(ax[0,0].get_xlim()[1], ax[0,1].get_xlim()[1])]\n",
    "    ax[0,1].set_xlim(limits)\n",
    "    ax[0,0].set_xlim(limits)\n",
    "    ax[0,0].invert_xaxis()\n",
    "    #ax[0,0].set_ylim(-.4, .4)\n",
    "    \n",
    "    ax[0,0].set_title('varying sig.', color = col[x]), ax[0,1].set_title('repeating sig.', color = col2[x])\n",
    "    ax[0,1].text(.65, .05, ['MM', 'VM'][x], fontweight = 'bold', color = [cm.Reds_r(.0), cm.Blues_r(.0)][x],\n",
    "                 fontsize = 15, transform=ax[0,1].transAxes)# horizontalalignment='center',verticalalignment='center',\n",
    "      \n",
    "###    \n",
    "### ------------------------------------------------------\n",
    "###\n",
    "    subplot(ax[1, 0])\n",
    "    sns.distplot(log(test_un[x][0]), bins = binN, hist = True, kde=False, norm_hist = True, \n",
    "                 vertical = True, color = col[x], hist_kws = {'alpha':.8})\n",
    "    sns.distplot(log(test_un[x][1]), bins = binN, hist = True, kde=False, norm_hist = True, \n",
    "                 hist_kws={\"histtype\": \"step\", \"linewidth\": 1.3,\"alpha\": .75},\n",
    "                 vertical = True, color = 'k')\n",
    "    gca().set(xscale=\"linear\", yscale=\"linear\")\n",
    "\n",
    "    #xlabel('norm. count', fontweight = 'normal', fontsize = 13, labelpad = 15)\n",
    "    if x ==0: ylabel('log($z^2$)', rotation = 90, fontweight = 'normal', fontsize = 13, labelpad = 10), #title('normtest (log(z-score))', loc = 'left')\n",
    "\n",
    "    subplot(ax[1, 1])\n",
    "    sns.distplot(log(test_re[x][0]), bins = binN, hist = True, kde=False, norm_hist = True, rug = False,\n",
    "                 vertical = True, color = col2[x], hist_kws = {'alpha':.8})\n",
    "    sns.distplot(log(test_re[x][1]), bins = binN, hist = True, kde=False, norm_hist = True,\n",
    "                          hist_kws={\"histtype\": \"step\", \"linewidth\": 1.3, \"alpha\": .75},\n",
    "                         vertical = True, color = 'k')\n",
    "    gca().set(xscale=\"linear\", yscale=\"linear\")\n",
    "    #gca().set_yticks([])\n",
    "    limits = [min(ax[1,0].get_xlim()[0], ax[1,1].get_xlim()[0]), max(ax[1,0].get_xlim()[1], ax[1,1].get_xlim()[1])]\n",
    "    ax[1,1].set_xlim(limits)\n",
    "    ax[1,0].set_xlim(limits)\n",
    "    ax[1,0].invert_xaxis()\n",
    "\n",
    "    ax[1,1].text(.65, .05, ['MM', 'VM'][x], fontweight = 'bold', color = [cm.Reds_r(.0), cm.Blues_r(.0)][x],fontsize = 15, transform=ax[1,1].transAxes)\n",
    "   \n",
    "#tight_layout()\n",
    "    #title('coefficient of correlation', loc = 'left'), xlabel('counts')    \n",
    "    subplot(ax[0, 1])\n",
    "    sns.distplot(c_re[x][0], bins = binN, hist = True, kde=False, norm_hist = True, \n",
    "                 vertical = True, color = col2[x], hist_kws = {'alpha':.8})\n",
    "    sns.distplot(c_re[x][1], bins = binN, hist = True, kde=False, norm_hist = True, \n",
    "                 hist_kws={\"histtype\": \"step\", \"linewidth\": 1.3, \"alpha\": .75},\n",
    "                         vertical = True, color = 'k')\n",
    "    \n",
    "    #ax[0,1].set_yticks([])\n",
    "\n",
    "    limits = [min(ax[0,0].get_xlim()[0], ax[0,1].get_xlim()[0]), max(ax[0,0].get_xlim()[1], ax[0,1].get_xlim()[1])]\n",
    "    ax[0,1].set_xlim(limits)\n",
    "    ax[0,0].set_xlim(limits)\n",
    "    ax[0,0].invert_xaxis()\n",
    "    #ax[0,0].set_ylim(-.4, .4)\n",
    "    \n",
    "    ax[0,0].set_title('varying sig.', color = col[x]), ax[0,1].set_title('repeating sig.', color = col2[x])\n",
    "    ax[0,1].text(.65, .05, ['MM', 'VM'][x], fontweight = 'bold', color = [cm.Reds_r(.0), cm.Blues_r(.0)][x],\n",
    "                 fontsize = 15, transform=ax[0,1].transAxes)# horizontalalignment='center',verticalalignment='center',\n",
    "      \n",
    "###    \n",
    "### ------------------------------------------------------\n",
    "###\n",
    "    subplot(ax[1, 0])\n",
    "    sns.distplot(log(test_un[x][0]), bins = binN, hist = True, kde=False, norm_hist = True, \n",
    "                 vertical = True, color = col[x], hist_kws = {'alpha':.8})\n",
    "    sns.distplot(log(test_un[x][1]), bins = binN, hist = True, kde=False, norm_hist = True, \n",
    "                 hist_kws={\"histtype\": \"step\", \"linewidth\": 1.3,\"alpha\": .75},\n",
    "                 vertical = True, color = 'k')\n",
    "    gca().set(xscale=\"linear\", yscale=\"linear\")\n",
    "\n",
    "    #xlabel('norm. count', fontweight = 'normal', fontsize = 13, labelpad = 15)\n",
    "    if x ==0: ylabel('log($z^2$)', rotation = 90, fontweight = 'normal', fontsize = 13, labelpad = 10), #title('normtest (log(z-score))', loc = 'left')\n",
    "\n",
    "    subplot(ax[1, 1])\n",
    "    sns.distplot(log(test_re[x][0]), bins = binN, hist = True, kde=False, norm_hist = True, rug = False,\n",
    "                 vertical = True, color = col2[x], hist_kws = {'alpha':.8})\n",
    "    sns.distplot(log(test_re[x][1]), bins = binN, hist = True, kde=False, norm_hist = True,\n",
    "                          hist_kws={\"histtype\": \"step\", \"linewidth\": 1.3, \"alpha\": .75},\n",
    "                         vertical = True, color = 'k')\n",
    "    gca().set(xscale=\"linear\", yscale=\"linear\")\n",
    "    #gca().set_yticks([])\n",
    "    limits = [min(ax[1,0].get_xlim()[0], ax[1,1].get_xlim()[0]), max(ax[1,0].get_xlim()[1], ax[1,1].get_xlim()[1])]\n",
    "    ax[1,1].set_xlim(limits)\n",
    "    ax[1,0].set_xlim(limits)\n",
    "    ax[1,0].invert_xaxis()\n",
    "\n",
    "    ax[1,1].text(.65, .05, ['MM', 'VM'][x], fontweight = 'bold', color = [cm.Reds_r(.0), cm.Blues_r(.0)][x],\n",
    "                 fontsize = 15, transform=ax[1,1].transAxes)\n",
    "show()"
   ]
  }
 ],
 "metadata": {
  "kernelspec": {
   "display_name": "Python [conda env:py27]",
   "language": "python",
   "name": "conda-env-py27-py"
  },
  "language_info": {
   "codemirror_mode": {
    "name": "ipython",
    "version": 2
   },
   "file_extension": ".py",
   "mimetype": "text/x-python",
   "name": "python",
   "nbconvert_exporter": "python",
   "pygments_lexer": "ipython2",
   "version": "2.7.15"
  },
  "toc": {
   "base_numbering": 1,
   "nav_menu": {
    "height": "68px",
    "width": "252px"
   },
   "number_sections": true,
   "sideBar": true,
   "skip_h1_title": false,
   "title_cell": "Table of Contents",
   "title_sidebar": "Contents",
   "toc_cell": false,
   "toc_position": {},
   "toc_section_display": "block",
   "toc_window_display": false
  }
 },
 "nbformat": 4,
 "nbformat_minor": 2
}
