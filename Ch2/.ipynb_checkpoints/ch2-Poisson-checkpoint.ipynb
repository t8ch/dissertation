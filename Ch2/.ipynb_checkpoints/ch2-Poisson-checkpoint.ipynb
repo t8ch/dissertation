{
 "cells": [
  {
   "cell_type": "markdown",
   "metadata": {},
   "source": [
    "# import relevant packages "
   ]
  },
  {
   "cell_type": "code",
   "execution_count": 1,
   "metadata": {
    "scrolled": true
   },
   "outputs": [
    {
     "name": "stdout",
     "output_type": "stream",
     "text": [
      "Using matplotlib backend: Qt5Agg\n",
      "Populating the interactive namespace from numpy and matplotlib\n"
     ]
    }
   ],
   "source": [
    "%pylab\n",
    "import scipy.integrate as integrate\n",
    "import seaborn as sns\n",
    "sns.set_style('ticks')\n",
    "\n",
    "import mpmath as mp\n",
    "mp.dps = 200"
   ]
  },
  {
   "cell_type": "markdown",
   "metadata": {},
   "source": [
    "# code and figures"
   ]
  },
  {
   "cell_type": "markdown",
   "metadata": {},
   "source": [
    "## spectra and correlation functions for Ornstein-Uhlenbeck, uniform and telegraph rate processes"
   ]
  },
  {
   "cell_type": "code",
   "execution_count": 2,
   "metadata": {},
   "outputs": [],
   "source": [
    "def ou_spec(sigma, tau, w, process):\n",
    "    if process == 'ou' or process == 'tele' or process == 'uni':\n",
    "        return 1/(2*pi)*2*sigma**2*tau/(1+w**2*tau**2)\n",
    "        #return sqrt(2/pi)*sigma**2*tau/(1+w**2*tau**2)\n",
    "        #tau = tau/4.\n",
    "        #return 2/(2*pi)*2*sigma**2*tau/(1+w**2*tau**2)\n",
    "\n",
    "def cross(sigma, tau, w, process):\n",
    "    return ou_spec(sigma, tau, w, process)\n",
    "\n",
    "def auto(nu, sigma, tau, w, process):\n",
    "    return ou_spec(sigma, tau, w, process)+nu\n",
    "\n",
    "def gauss(x, nu, sigma):\n",
    "    return 1./sqrt(2*pi*sigma**2)*exp(-(x-nu)**2/(2*sigma**2))\n",
    "\n",
    "# mpmath for higher precision (I think obsolete due to closed form solutions)\n",
    "def log2(x):\n",
    "    return mp.log(x,2)\n",
    "log2 = vectorize(log2)"
   ]
  },
  {
   "cell_type": "markdown",
   "metadata": {},
   "source": [
    "## class that calculates mutual information"
   ]
  },
  {
   "cell_type": "markdown",
   "metadata": {},
   "source": [
    "includes correlation method, info for ind. spikes and analytic limit; for both processes"
   ]
  },
  {
   "cell_type": "code",
   "execution_count": 3,
   "metadata": {},
   "outputs": [],
   "source": [
    "class info():\n",
    "    \n",
    "    def __init__(self, nu, sigma, tau, process = 'ou'):\n",
    "        self.nu = nu\n",
    "        self.sigma = sigma\n",
    "        self.tau = tau\n",
    "        self.p = process\n",
    "        \n",
    "    def Poisson_info(self):\n",
    "#        r, step = linspace(0, r_max, N, restep = 1)\n",
    "        if self.p == 'ou':\n",
    "            #return integrate.quad(lambda x: x/self.nu*log2(x/self.nu)*gauss(x, self.nu, self.sigma), 0, 4*self.nu)[0]\n",
    "            return integrate.quad(lambda x: x/self.nu*log2(x/self.nu)*gauss(x, self.nu, self.sigma), 0, 100*self.sigma)[0]        \n",
    "        if self.p == 'tele':\n",
    "            x = array([self.nu-self.sigma, self.nu+self.sigma])\n",
    "            return mean(x/self.nu*log2(x/self.nu)) \n",
    "            #        gauss = 1/sqrt(2*pi*sigma**2)*exp(-(r-nu)**2/(2*sigma**2))\n",
    "        if self.p == 'uni':\n",
    "            return (-2*sqrt(3)*self.nu*self.sigma - (self.nu**2 - 2*sqrt(3)*self.nu*self.sigma + 3*self.sigma**2)*log(1 - (sqrt(3)*self.sigma)/self.nu) + (self.nu**2 + 2*sqrt(3)*self.nu*self.sigma + 3*self.sigma**2)*log(1 + (sqrt(3)*self.sigma)/self.nu))/(sqrt(3)*self.nu*self.sigma*log(16))\n",
    "    # old, obsolete\n",
    "#    def Poisson_info2(self):\n",
    "#        if self.p == 'ou':\n",
    "#            return -.5*log2(2*pi*e*self.sigma**2)/self.nu - log2(self.nu)\n",
    "\n",
    "    def corr_info(self, f_max = 0):\n",
    "        if f_max == 0: \n",
    "            f_max = 1000./self.tau\n",
    "            #print(f_max)\n",
    "        return mp.quad(lambda x: -1./(1.*self.nu)*mp.log(1-cross(self.sigma, self.tau, x, self.p)/auto(self.nu, self.sigma, self.tau, x, self.p), 2), [0, f_max])#[0]\n",
    "   \n",
    "# analytic solution for exp decaying ACF\n",
    "    def corr_info_exp(self):\n",
    "        return (sqrt(pi)*self.sigma**2*self.tau + pi**1.5*self.nu - pi*sqrt(self.nu*(self.sigma**2*self.tau + pi*self.nu)))/(self.tau*sqrt(self.nu**3*(self.sigma**2*self.tau + pi*self.nu))*log(2))\n",
    "    \n",
    "# I_0\n",
    "    def limit(self, s):\n",
    "        return s**2/(2*log(2)*self.nu**2)\n",
    "    #test for implementing DeWeese toy case\n",
    "    def square_info(self):\n",
    "        return 1.05-.28*(self.tau*self.nu)-6*(self.tau*self.nu)**2"
   ]
  },
  {
   "cell_type": "markdown",
   "metadata": {},
   "source": [
    "function that samples information values for different $\\sigma_r$ and $\\tau$"
   ]
  },
  {
   "cell_type": "code",
   "execution_count": 4,
   "metadata": {},
   "outputs": [],
   "source": [
    "def scan_snr(nu, snr, tau, process = 'tele'):\n",
    "    jo = info(nu, 1., 10., process)\n",
    "    info_train = zeros((len(tau), len(snr)))\n",
    "    info_spike = zeros((len(tau), len(snr)))\n",
    "    for kx, x in enumerate(snr):\n",
    "        for kt, t in enumerate(tau):\n",
    "            jo.sigma = x\n",
    "            jo.tau = t\n",
    "            info_train[kt, kx] = jo.corr_info_exp()#1st version jo.corr_info()\n",
    "            info_spike[kt, kx] = jo.Poisson_info()\n",
    "    return array(info_train), array(info_spike)"
   ]
  },
  {
   "cell_type": "markdown",
   "metadata": {},
   "source": [
    "## Fig 3: info as function of $\\sigma_r$"
   ]
  },
  {
   "cell_type": "code",
   "execution_count": 5,
   "metadata": {},
   "outputs": [],
   "source": [
    "nu = 2. #1st version: 1\n",
    "snr = linspace(0.05, .75, 50)*nu\n",
    "tau = array([.5, 5, 30])/nu #1st version [5., 10., 50.]"
   ]
  },
  {
   "cell_type": "code",
   "execution_count": 6,
   "metadata": {},
   "outputs": [],
   "source": [
    "#1st version: ou in first line, tele in 2nd\n",
    "info_train, info_spike = scan_snr(nu, snr, tau, 'tele')\n",
    "#info_train_tele, info_spike_tele = scan_snr(nu, snr, tau, 'uni')"
   ]
  },
  {
   "cell_type": "code",
   "execution_count": 7,
   "metadata": {},
   "outputs": [],
   "source": [
    "figure(figsize = (5.5,4.5))\n",
    "for x in range(len(tau)):\n",
    "    if x==0: semilogy(snr/nu, info_spike[x], label = r'$\\mathcal{{I}}_\\mathrm{{ind}}$'.format(tau[x]*nu))\n",
    "    semilogy(snr/nu, info_train[x], label = r'$\\mathcal{{I}}_\\mathrm{{corr}}$, $\\tau={}/\\nu$'.format(tau[x]*nu), c = cm.Reds(.7*float(x)/len(tau)+.3))\n",
    "semilogy(snr/nu, [x**2/(2*log(2)*nu**2) for x in snr], label = r'$\\mathcal{{I}}_0$', ls = ':', c = 'grey')\n",
    "legend()\n",
    "ylabel(\"information [bits/spike]\")\n",
    "xlabel(r\"rate modulation depth $\\sigma_r/\\nu$\")\n",
    "gca().set_yscale('linear')\n",
    "tight_layout()\n",
    "xlim([snr[0]/nu, snr[-1]/nu])\n",
    "show()"
   ]
  },
  {
   "cell_type": "markdown",
   "metadata": {},
   "source": [
    "## Fig 2: info as function of $\\tau$"
   ]
  },
  {
   "cell_type": "code",
   "execution_count": 8,
   "metadata": {},
   "outputs": [],
   "source": [
    "nu = 1.\n",
    "tau2 = logspace(-2, 2, 40, endpoint=1)/nu\n",
    "snr2 = [.5]#for 1st version: [.75]"
   ]
  },
  {
   "cell_type": "code",
   "execution_count": 14,
   "metadata": {},
   "outputs": [],
   "source": [
    "info_trainTau, info_spikeTau = scan_snr(nu, snr2, tau2, 'uni') #1st version: OU\n",
    "info_train_teleTau, info_spike_teleTau = scan_snr(nu, snr2, tau2, 'tele')\n",
    "info_trainOUtau, info_spikeOUtau = scan_snr(nu, snr2, tau2, 'ou') #1st version: OU"
   ]
  },
  {
   "cell_type": "code",
   "execution_count": 24,
   "metadata": {},
   "outputs": [
    {
     "name": "stdout",
     "output_type": "stream",
     "text": [
      "0.05\n"
     ]
    }
   ],
   "source": [
    "figure(figsize = (5.5,4.5))\n",
    "snr_index = 0 #1st version 3\n",
    "print(linspace(0.05, .75, 50)[snr_index])\n",
    "\n",
    "plot(tau2, info_trainTau[:, snr_index], label = r'$\\mathcal{{I}}^\\mathrm{{uni}}_\\mathrm{{corr}}$', c = sns.color_palette()[3])\n",
    "plot(tau2, info_train_teleTau[:, snr_index], 'o', label = r'$\\mathcal{{I}}^\\mathrm{{tele}}_\\mathrm{{corr}}$', c = sns.color_palette()[3],  linestyle='None', ms = 6)\n",
    "plot(tau2, info_spikeTau[:, snr_index], label = r'$\\mathcal{{I}}^\\mathrm{{uni}}_\\mathrm{{ind}}$', c = sns.color_palette()[0])\n",
    "plot(tau2, info_spike_teleTau[:, snr_index], 'o', label = r'$\\mathcal{{I}}^\\mathrm{{tele}}_\\mathrm{{ind}}$', c = sns.color_palette()[0],  linestyle='None', ms = 6)\n",
    "# OUP\n",
    "plot(tau2, info_trainOUtau[:, snr_index], 'x', label = r'$\\mathcal{{I}}^\\mathrm{{OU}}_\\mathrm{{corr}}$', c = sns.color_palette()[3],  linestyle='None', ms = 5)\n",
    "plot(tau2, info_spikeOUtau[:, snr_index], 'x', label = r'$\\mathcal{{I}}^\\mathrm{{OU}}_\\mathrm{{ind}}$', c = sns.color_palette()[0],  linestyle='None', ms = 5)\n",
    "\n",
    "axhline(snr2[snr_index]**2/(2*log(2)*nu**2), label = r'$I_0$', ls = ':', c = 'grey')\n",
    "gca().set_xscale('log')\n",
    "xlim([tau2[0], tau2[-1]])\n",
    "xlabel(r'rate auto-correlation time $\\tau$')\n",
    "ylabel('information [bits/spike]')\n",
    "\n",
    "legend(loc = 6, ncol = 3, )\n",
    "\n",
    "tight_layout()\n",
    "show()"
   ]
  },
  {
   "cell_type": "markdown",
   "metadata": {},
   "source": [
    "## $\\nu$ as first axis"
   ]
  },
  {
   "cell_type": "code",
   "execution_count": 41,
   "metadata": {},
   "outputs": [],
   "source": [
    "def infos(nu, sigma, tau, process = 'uni', f_max = 0):\n",
    "    jo = info(nu, sigma, tau, process)\n",
    "    return jo.corr_info_exp(), jo.Poisson_info(), jo.limit(sigma)"
   ]
  },
  {
   "cell_type": "markdown",
   "metadata": {},
   "source": [
    "**I removed the firing rate normalization of information (compared to dissertation figure)**"
   ]
  },
  {
   "cell_type": "code",
   "execution_count": 224,
   "metadata": {},
   "outputs": [],
   "source": [
    "nu_range = linspace(.01, 15, 50)\n",
    "k_sigma = .5\n",
    "infos_uni = array([infos(nu, k_sigma*nu, 10., 'uni') for nu in nu_range])\n",
    "infos_tele = array([infos(nu, k_sigma*nu, 10., 'tele') for nu in nu_range])\n",
    "figure()\n",
    "plot(nu_range, infos_uni[:, 0]*nu_range, label = r'$\\mathcal{{I}}^\\mathcal{{uni}}_\\mathcal{{corr}}$', c = sns.color_palette()[3])\n",
    "plot(nu_range, infos_tele[:, 0]*nu_range, 'o', ls='-',label = r'$\\mathcal{{I}}^\\mathcal{{tele}}_\\mathcal{{corr}}$', c = sns.color_palette()[3],  linestyle='None', ms = 6)\n",
    "plot(nu_range, infos_uni[:, 1]*nu_range, label = r'$\\mathcal{{I}}^\\mathcal{{uni}}_\\mathcal{{ind}}$', c = sns.color_palette()[0])\n",
    "plot(nu_range, infos_tele[:, 1]*nu_range, 'o', label = r'$\\mathcal{{I}}^\\mathcal{{tele}}_\\mathcal{{ind}}$', c = sns.color_palette()[0], ms = 6)\n",
    "\n",
    "xlim([nu_range[0], nu_range[-1]])\n",
    "xlabel(r'mean firing rate $\\nu$ [a.u.] (with $\\sigma_r/\\nu={}$ fixed)'.format(k_sigma))\n",
    "ylabel('information [bits/spike]')\n",
    "\n",
    "ax1 = gca()\n",
    "ax2 = ax1.twiny()\n",
    "ax2.plot(k_sigma*nu_range, .18*np.ones(50), alpha = 0) # Create a dummy plot\n",
    "ax2.set_xlabel('firing rate standard deviation $\\sigma_r$ [a.u]')\n",
    "#ax2.cla()\n",
    "\n",
    "ax1.legend(loc = 'best')\n",
    "tight_layout()\n",
    "show()"
   ]
  },
  {
   "cell_type": "code",
   "execution_count": 158,
   "metadata": {},
   "outputs": [],
   "source": [
    "close('all')"
   ]
  },
  {
   "cell_type": "markdown",
   "metadata": {},
   "source": [
    "## code for figure 1 (schematic)"
   ]
  },
  {
   "cell_type": "code",
   "execution_count": 3,
   "metadata": {},
   "outputs": [],
   "source": [
    "def raster(event_times_list, **kwargs):\n",
    "    \"\"\"\n",
    "    Creates a raster plot\n",
    "    Parameters\n",
    "    ----------\n",
    "    event_times_list : iterable\n",
    "                       a list of event time iterables\n",
    "    color : string\n",
    "            color of vlines\n",
    "    Returns\n",
    "    -------\n",
    "    ax : an axis containing the raster plot\n",
    "    \"\"\"\n",
    "    ax = plt.gca()\n",
    "    for ith, trial in enumerate(event_times_list):\n",
    "        plt.vlines(trial, ith + .5, ith + 1.25, **kwargs)\n",
    "    plt.ylim(.5, len(event_times_list) + .5)\n",
    "    return ax"
   ]
  },
  {
   "cell_type": "code",
   "execution_count": 4,
   "metadata": {},
   "outputs": [],
   "source": [
    "def poisson_const(rate, dt, N):\n",
    "    a = zeros(N)\n",
    "    for x,X in enumerate(rate):\n",
    "        if random.uniform()<X*dt:\n",
    "            a[x] = 1\n",
    "    return array([x*dt for x in nonzero(a)]) #spike times in ms"
   ]
  },
  {
   "cell_type": "code",
   "execution_count": 5,
   "metadata": {},
   "outputs": [],
   "source": [
    "def regular_spikes(rate, total_time):\n",
    "    spike_times = [x/(rate)+random.normal(0, .05/rate) for x in range(5)]\n",
    "    return array(spike_times)"
   ]
  },
  {
   "cell_type": "code",
   "execution_count": 6,
   "metadata": {},
   "outputs": [],
   "source": [
    "def bell_correlation(times,rate,width):\n",
    "    return sum(array([exp(-(times-x/rate)**2/(2*(width+(x/1.6))**2)) for x in range(1,6)]), axis = 0)*exp(-times/rate*.00001)\n",
    "#    return exp(-(times-1./rate)**2/(2*width**2))+exp(-(times-2./rate)**2/(2*width**2))+exp(-(times-3./rate)**2/(2*width**2))++exp(-(times-4./rate)**2/(2*width**2))+exp(-(times-5./rate)**2/(2*width**2))        "
   ]
  },
  {
   "cell_type": "code",
   "execution_count": 7,
   "metadata": {},
   "outputs": [],
   "source": [
    "mpl.rcParams['axes.linewidth'] = 0.5 #set the value globally"
   ]
  },
  {
   "cell_type": "code",
   "execution_count": 8,
   "metadata": {},
   "outputs": [],
   "source": [
    "fig, axs =  subplots(3,3, figsize = (6, 3))\n",
    "\n",
    "for ix in axs:\n",
    "    for ax in ix: \n",
    "        ax.tick_params(top='off', bottom='off', left='off', right='off', labelleft='off', labelbottom='off')\n",
    "        ax.spines['top'].set_visible(False)\n",
    "        ax.spines['right'].set_visible(False)\n",
    "        ax.autoscale(enable=True, axis='x', tight=True)\n",
    "\n",
    "\n",
    "ylabels = ['stimulus', 'spikes', 'spike\\n auto-corr.']\n",
    "titles = ['intrinsically induced\\n correlations', 'independent spikes\\n (correlation-free)', 'signal induced\\n correlations']\n",
    "for i in range(3):\n",
    "    axs[2,i].set_xlabel('time')\n",
    "    axs[i,0].set_ylabel(ylabels[i])\n",
    "    axs[0,i].set_title(titles[i])\n",
    "#    axs[0,i].autoscale(enable=True, axis='x', tight=True)\n",
    "#    axs[2,i].autoscale(enable=True, axis='x', tight=True)\n",
    "\n",
    "# plot rates/stimulus\n",
    "axs[0,0].plot([1,1])\n",
    "axs[0,1].plot([1,1])\n",
    "axs[0,2].plot(cos(arange(0, 5.*2*pi, .1)))\n",
    "axs[0,2].annotate(\"\", xy=(62, 0.75), xycoords='data', xytext=(128, 0.75), textcoords='data',\n",
    "                         arrowprops=dict(arrowstyle= '|-|, widthA=.4, widthB=.4',lw= 1., ls='-', connectionstyle= 'angle'))\n",
    "axs[0,2].annotate(\"$\\Delta$\", xy=(0.1, 0.55), xycoords='data',\n",
    "            xytext=((128+62)/2., 0.8), textcoords='data', horizontalalignment = 'center', size = 10.)\n",
    "\n",
    "# spike rasters\n",
    "rate = 10./1000.\n",
    "dt = .1\n",
    "T = .5*1000.\n",
    "N = int(T/dt)\n",
    "sca(axs[1,0])\n",
    "raster([regular_spikes(rate, N*dt) for _ in range(6)], lw = 1.5)\n",
    "axs[1,0].annotate(\"\", xy=(100, 1.5), xycoords='data', xytext=(210, 1.5), textcoords='data',\n",
    "                         arrowprops=dict(arrowstyle= '|-|, widthA=.4, widthB=.4', lw= 1., ls='-', connectionstyle= 'angle'), )\n",
    "axs[1,0].annotate(\"$\\Delta+\\epsilon$\", xy=(0.1, 0.55), xycoords='data',\n",
    "            xytext=(155, 1.59), textcoords='data', horizontalalignment = 'center', fontsize = 8.,)\n",
    "sca(axs[1,1])\n",
    "raster([poisson_const(rate*ones(int(N)), dt, N) for _ in range(6)], lw = 1.5)\n",
    "sca(axs[1,2])\n",
    "raster([regular_spikes(rate, N*dt) for _ in range(6)], lw = 1.5)\n",
    "\n",
    "axs[2,0].plot(bell_correlation(arange(0., 520., .01), .01, .05/.01), c = sns.color_palette()[2])\n",
    "axs[2,0].annotate(\"\", xy=(10000, 0.5), xycoords='data', xytext=(20000, 0.5), textcoords='data',\n",
    "                         arrowprops=dict(arrowstyle= '|-|, widthA=.4, widthB=.4', lw= 1., ls='-', connectionstyle= 'angle'), )\n",
    "axs[2,0].annotate(\"$\\Delta$\", xy=(0.1, 0.55), xycoords='data',\n",
    "            xytext=(15000, 0.55), textcoords='data', horizontalalignment = 'center', size = 10.,)\n",
    "\n",
    "axs[2,1].plot([1,1],c = sns.color_palette()[2])\n",
    "axs[2,1].annotate(r\"$\\nu^2$\", xy=(0.7, 1.02), xycoords='data',\n",
    "            xytext=(0.92, 1.01), textcoords='data', horizontalalignment = 'center', size = 10.)\n",
    "\n",
    "\n",
    "axs[2,2].plot(bell_correlation(arange(0., 520., .01), .01, .05/.01), c = sns.color_palette()[2])\n",
    "axs[2,2].annotate(\"\", xy=(10000, 0.5), xycoords='data', xytext=(20000, 0.5), textcoords='data',\n",
    "                         arrowprops=dict(arrowstyle= '|-|, widthA=.4, widthB=.4', lw= 1., ls='-'), )\n",
    "axs[2,2].annotate(\"$\\Delta$\", xy=(0.1, 0.55), xycoords='data', xytext=(15000, 0.55), textcoords='data', horizontalalignment = 'center', size = 10.,)\n",
    "#sca(axs[2,2])\n",
    "#axvline(x=0,c = sns.color_palette()[2])\n",
    "\n",
    "tight_layout()\n",
    "show()"
   ]
  },
  {
   "cell_type": "markdown",
   "metadata": {},
   "source": [
    "# schematic for uni and tele process distributions"
   ]
  },
  {
   "cell_type": "code",
   "execution_count": 221,
   "metadata": {},
   "outputs": [],
   "source": [
    "fig,axs = subplots(2,2,)\n",
    "axs[0,0].axvline(x = .35, ymax = .5, lw = 5)\n",
    "axs[0,0].axvline(x = .65, ymax = .5, lw = 5)\n",
    "axs[0,0].axvline(x=.5, ymax = 1, lw = 1, ls = 'dashed', c ='k')\n",
    "axs[0,0].set_xlabel('firing rate')\n",
    "axs[0,0].set_ylabel('probability')\n",
    "axs[0,0].set_title('binary distribution')\n",
    "\n",
    "axs[0,1].axhline(y=1/(3.*sqrt(3)), xmin=.5-sqrt(3)*.15, xmax=.5+sqrt(3)*.15, lw = 2)\n",
    "axs[0,1].axvline(x=.5-sqrt(3)*.15, ymax = 1/(3.*sqrt(3)), lw = 2)\n",
    "axs[0,1].axvline(x=.5+sqrt(3)*.15, ymax = 1/(3.*sqrt(3)), lw = 2)\n",
    "axs[0,1].set_xlim(0,1)\n",
    "axs[0,1].axvline(x=.5, ymax = 1, lw = 1, ls = 'dashed', c ='k')\n",
    "axs[0,1].set_xlabel('firing rate')\n",
    "axs[0,1].set_ylabel('probability')\n",
    "axs[0,1].set_title('uniform distribution')\n",
    "\n",
    "axs[1,0].plot(exp(-linspace(0,3.9,100)))\n",
    "axs[1,0].set_xlim(0,None)\n",
    "axs[1,0].tick_params(labelleft=False)\n",
    "axs[1,0].set_yticks([])\n",
    "axs[1,0].set_xlabel('time lag')\n",
    "axs[1,0].set_ylabel('auto-correlation')\n",
    "axs[1,0].set_title('exp. decaying correlation')\n",
    "\n",
    "\n",
    "for ax in axs.flatten():\n",
    "    ax.spines['right'].set_visible(False)\n",
    "    ax.spines['top'].set_visible(False)\n",
    "    #ax.spines['left'].set_visible(False)\n",
    "    #ax.spines['bottom'].set_visible(False)\n",
    "    ax.tick_params(labelbottom=False)\n",
    "    ax.set_xticks([])\n",
    "\n",
    "tight_layout()\n",
    "show()"
   ]
  }
 ],
 "metadata": {
  "jupytext": {
   "text_representation": {
    "extension": ".py",
    "format_name": "light",
    "format_version": "1.3",
    "jupytext_version": "0.8.6"
   }
  },
  "kernelspec": {
   "display_name": "Python [conda env:py27]",
   "language": "python",
   "name": "conda-env-py27-py"
  },
  "language_info": {
   "codemirror_mode": {
    "name": "ipython",
    "version": 2
   },
   "file_extension": ".py",
   "mimetype": "text/x-python",
   "name": "python",
   "nbconvert_exporter": "python",
   "pygments_lexer": "ipython2",
   "version": "2.7.15"
  },
  "toc": {
   "base_numbering": 1,
   "nav_menu": {
    "height": "105px",
    "width": "252px"
   },
   "number_sections": true,
   "sideBar": true,
   "skip_h1_title": false,
   "title_cell": "Table of Contents",
   "title_sidebar": "Contents",
   "toc_cell": false,
   "toc_position": {},
   "toc_section_display": "block",
   "toc_window_display": false
  }
 },
 "nbformat": 4,
 "nbformat_minor": 2
}
